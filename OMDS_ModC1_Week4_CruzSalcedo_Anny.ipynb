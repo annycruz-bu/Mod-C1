{
 "cells": [
  {
   "cell_type": "markdown",
   "id": "565116c2",
   "metadata": {},
   "source": [
    "# **WEEK 4**"
   ]
  },
  {
   "cell_type": "markdown",
   "id": "60755242",
   "metadata": {},
   "source": [
    "## Dataset 1: Web page Phishing Detection Dataset"
   ]
  },
  {
   "cell_type": "markdown",
   "id": "78e5230b",
   "metadata": {},
   "source": [
    "### **Logistic regression and feature scaling**"
   ]
  },
  {
   "cell_type": "code",
   "execution_count": 2,
   "id": "5fb1f3ee",
   "metadata": {},
   "outputs": [],
   "source": [
    "import numpy as np\n",
    "import pandas as pd\n",
    "\n",
    "# Load dataset - Dataset 1: Web page Phishing Detection\n",
    "import kagglehub\n",
    "path = kagglehub.dataset_download(\"shashwatwork/web-page-phishing-detection-dataset\")\n",
    "dataset1 = pd.read_csv(path + \"/dataset_phishing.csv\")\n",
    "\n",
    "# 0) Target encoding consistent with Weeks 1–3\n",
    "dataset1[\"status\"] = dataset1[\"status\"].map({\"phishing\": 1, \"legitimate\": 0})\n",
    "dataset1 = dataset1.dropna(subset=[\"status\"])  # just in case\n",
    "\n",
    "# 1) Feature/target\n",
    "X = dataset1.drop(columns=[\"status\"])\n",
    "y = dataset1[\"status\"]"
   ]
  },
  {
   "cell_type": "code",
   "execution_count": null,
   "id": "5bfde3ea",
   "metadata": {},
   "outputs": [
    {
     "name": "stdout",
     "output_type": "stream",
     "text": [
      "\n",
      "=== Numeric-only (no scaling/encoding) ===\n",
      "              precision    recall  f1-score   support\n",
      "\n",
      "           0       0.83      0.84      0.84      1715\n",
      "           1       0.84      0.83      0.84      1714\n",
      "\n",
      "    accuracy                           0.84      3429\n",
      "   macro avg       0.84      0.84      0.84      3429\n",
      "weighted avg       0.84      0.84      0.84      3429\n",
      "\n",
      "\n",
      "=== With scaling + encoding (Pipeline) ===\n",
      "              precision    recall  f1-score   support\n",
      "\n",
      "           0       0.94      0.94      0.94      1715\n",
      "           1       0.94      0.94      0.94      1714\n",
      "\n",
      "    accuracy                           0.94      3429\n",
      "   macro avg       0.94      0.94      0.94      3429\n",
      "weighted avg       0.94      0.94      0.94      3429\n",
      "\n"
     ]
    },
    {
     "name": "stderr",
     "output_type": "stream",
     "text": [
      "/opt/anaconda3/lib/python3.12/site-packages/sklearn/linear_model/_logistic.py:469: ConvergenceWarning: lbfgs failed to converge (status=1):\n",
      "STOP: TOTAL NO. of ITERATIONS REACHED LIMIT.\n",
      "\n",
      "Increase the number of iterations (max_iter) or scale the data as shown in:\n",
      "    https://scikit-learn.org/stable/modules/preprocessing.html\n",
      "Please also refer to the documentation for alternative solver options:\n",
      "    https://scikit-learn.org/stable/modules/linear_model.html#logistic-regression\n",
      "  n_iter_i = _check_optimize_result(\n"
     ]
    }
   ],
   "source": [
    "from sklearn.model_selection import train_test_split\n",
    "from sklearn.compose import ColumnTransformer\n",
    "from sklearn.preprocessing import StandardScaler, OneHotEncoder\n",
    "from sklearn.impute import SimpleImputer\n",
    "from sklearn.pipeline import Pipeline\n",
    "from sklearn.linear_model import LogisticRegression\n",
    "\n",
    "# Identify dtypes\n",
    "num_cols = X.select_dtypes(include=[np.number]).columns.tolist()\n",
    "cat_cols = X.select_dtypes(include=[\"object\", \"category\", \"bool\"]).columns.tolist()\n",
    "\n",
    "# Heuristic: drop \"free-text-like\" categorical columns (e.g., raw URLs, IDs)\n",
    "# drop if too many unique values OR strings are long on average\n",
    "to_drop = []\n",
    "for c in cat_cols:\n",
    "    nunq = X[c].nunique(dropna=True)\n",
    "    avg_len = X[c].dropna().astype(str).str.len().mean() if X[c].dtype == \"object\" else 0\n",
    "    if (nunq > 50) or (avg_len and avg_len > 30):\n",
    "        to_drop.append(c)\n",
    "\n",
    "# Keep only \"low-card\" categoricals\n",
    "low_card_cats = [c for c in cat_cols if c not in to_drop]\n",
    "\n",
    "# Update X with dropped columns\n",
    "X_model = X.drop(columns=to_drop, errors=\"ignore\")\n",
    "\n",
    "# Recompute lists (in case dropping changed things)\n",
    "num_cols = X_model.select_dtypes(include=[np.number]).columns.tolist()\n",
    "low_card_cats = X_model.select_dtypes(include=[\"object\", \"category\", \"bool\"]).columns.tolist()\n",
    "\n",
    "# Preprocessor\n",
    "numeric_tf = Pipeline(steps=[\n",
    "    (\"imputer\", SimpleImputer(strategy=\"median\")),\n",
    "    (\"scaler\", StandardScaler())\n",
    "])\n",
    "\n",
    "categorical_tf = Pipeline(steps=[\n",
    "    (\"imputer\", SimpleImputer(strategy=\"most_frequent\")),\n",
    "    (\"onehot\", OneHotEncoder(handle_unknown=\"ignore\", sparse_output=False, max_categories=30))\n",
    "])\n",
    "\n",
    "preprocessor = ColumnTransformer(\n",
    "    transformers=[\n",
    "        (\"num\", numeric_tf, num_cols),\n",
    "        (\"cat\", categorical_tf, low_card_cats),\n",
    "    ],\n",
    "    remainder=\"drop\"\n",
    ")\n",
    "\n",
    "# Simple train/test split\n",
    "X_train, X_test, y_train, y_test = train_test_split(\n",
    "    X_model, y, test_size=0.3, random_state=42, stratify=y\n",
    ")\n",
    "\n",
    "# Part A: Separate scaling vs. raw (teaching demo)\n",
    "# Here we compare: RAW numeric only vs. PROCESSED (scaled+encoded).\n",
    "# If we truly want \"no scaling\", we must also avoid encoding; that means using only numeric columns.\n",
    "from sklearn.metrics import classification_report\n",
    "\n",
    "# A1) Logistic Regression on numeric-only (no scaling, no encoding) -- for comparison\n",
    "if len(num_cols) > 0:\n",
    "    lr_raw_numeric = LogisticRegression(max_iter=5000, random_state=42)\n",
    "    lr_raw_numeric.fit(X_train[num_cols], y_train)\n",
    "    print(\"\\n=== Numeric-only (no scaling/encoding) ===\")\n",
    "    print(classification_report(y_test, lr_raw_numeric.predict(X_test[num_cols])))\n",
    "else:\n",
    "    print(\"\\n[Note] No numeric columns found for a raw (no-scaling) comparison.\")\n",
    "\n",
    "# A2) Full preprocessing (scale + encode) + Logistic Regression\n",
    "lr_scaled = Pipeline(steps=[\n",
    "    (\"prep\", preprocessor),\n",
    "    (\"lr\", LogisticRegression(max_iter=5000, random_state=42))\n",
    "])\n",
    "lr_scaled.fit(X_train, y_train)\n",
    "print(\"\\n=== With scaling + encoding (Pipeline) ===\")\n",
    "print(classification_report(y_test, lr_scaled.predict(X_test)))\n"
   ]
  },
  {
   "cell_type": "code",
   "execution_count": null,
   "id": "8f464c92",
   "metadata": {},
   "outputs": [
    {
     "name": "stdout",
     "output_type": "stream",
     "text": [
      "\n",
      "CV Accuracy: 0.945 (+/- 0.006) over 100 folds\n"
     ]
    }
   ],
   "source": [
    "from sklearn.model_selection import RepeatedStratifiedKFold, cross_val_score\n",
    "import numpy as np\n",
    "\n",
    "pipe_cv = Pipeline(steps=[\n",
    "    (\"prep\", preprocessor),\n",
    "    (\"lr\", LogisticRegression(max_iter=5000, random_state=42))\n",
    "])\n",
    "\n",
    "cv = RepeatedStratifiedKFold(n_splits=10, n_repeats=10, random_state=42)\n",
    "scores = cross_val_score(pipe_cv, X_model, y, scoring=\"accuracy\", cv=cv, n_jobs=-1)\n",
    "print(f\"\\nCV Accuracy: {scores.mean():.3f} (+/- {scores.std():.3f}) over {len(scores)} folds\")"
   ]
  },
  {
   "cell_type": "code",
   "execution_count": null,
   "id": "bba8ce4c",
   "metadata": {},
   "outputs": [
    {
     "data": {
      "text/html": [
       "<div>\n",
       "<style scoped>\n",
       "    .dataframe tbody tr th:only-of-type {\n",
       "        vertical-align: middle;\n",
       "    }\n",
       "\n",
       "    .dataframe tbody tr th {\n",
       "        vertical-align: top;\n",
       "    }\n",
       "\n",
       "    .dataframe thead th {\n",
       "        text-align: right;\n",
       "    }\n",
       "</style>\n",
       "<table border=\"1\" class=\"dataframe\">\n",
       "  <thead>\n",
       "    <tr style=\"text-align: right;\">\n",
       "      <th></th>\n",
       "      <th>Setting</th>\n",
       "      <th>Accuracy</th>\n",
       "      <th>Std (if CV)</th>\n",
       "    </tr>\n",
       "  </thead>\n",
       "  <tbody>\n",
       "    <tr>\n",
       "      <th>0</th>\n",
       "      <td>Numeric-only (no scaling/encoding)</td>\n",
       "      <td>0.840</td>\n",
       "      <td>NaN</td>\n",
       "    </tr>\n",
       "    <tr>\n",
       "      <th>1</th>\n",
       "      <td>Scaled+Encoded (holdout)</td>\n",
       "      <td>0.940</td>\n",
       "      <td>NaN</td>\n",
       "    </tr>\n",
       "    <tr>\n",
       "      <th>2</th>\n",
       "      <td>Scaled+Encoded (CV)</td>\n",
       "      <td>0.945</td>\n",
       "      <td>0.006</td>\n",
       "    </tr>\n",
       "  </tbody>\n",
       "</table>\n",
       "</div>"
      ],
      "text/plain": [
       "                              Setting  Accuracy  Std (if CV)\n",
       "0  Numeric-only (no scaling/encoding)     0.840          NaN\n",
       "1            Scaled+Encoded (holdout)     0.940          NaN\n",
       "2                 Scaled+Encoded (CV)     0.945        0.006"
      ]
     },
     "metadata": {},
     "output_type": "display_data"
    },
    {
     "data": {
      "image/png": "[encoded data removed]",
      "text/plain": [
       "<Figure size 800x500 with 1 Axes>"
      ]
     },
     "metadata": {},
     "output_type": "display_data"
    }
   ],
   "source": [
    "import matplotlib.pyplot as plt\n",
    "import pandas as pd\n",
    "import numpy as np\n",
    "\n",
    "# Results from Week 4\n",
    "acc_raw = 0.84\n",
    "acc_scaled = 0.94\n",
    "cv_mean = 0.945\n",
    "cv_std = 0.006\n",
    "\n",
    "# Build a dataframe \n",
    "df = pd.DataFrame({\n",
    "    \"Setting\": [\n",
    "        \"Numeric-only (no scaling/encoding)\",\n",
    "        \"Scaled+Encoded (holdout)\",\n",
    "        \"Scaled+Encoded (CV)\"\n",
    "    ],\n",
    "    \"Accuracy\": [acc_raw, acc_scaled, cv_mean],\n",
    "    \"Std (if CV)\": [np.nan, np.nan, cv_std]\n",
    "})\n",
    "display(df)\n",
    "\n",
    "# --- Bar Chart ---\n",
    "x = np.arange(len(df))\n",
    "y = df[\"Accuracy\"].values\n",
    "\n",
    "plt.figure(figsize=(8,5))\n",
    "bars = plt.bar(x, y, color=[\"#a6cee3\", \"#1f78b4\", \"#b2df8a\"])\n",
    "\n",
    "# Add error bar only for CV result\n",
    "plt.errorbar(x[2], y[2], yerr=cv_std, fmt='none', capsize=6, color=\"black\")\n",
    "\n",
    "# Labels and ticks\n",
    "plt.xticks(x, df[\"Setting\"], rotation=15, ha=\"right\")\n",
    "plt.ylim(0.7, 1.0)\n",
    "plt.ylabel(\"Accuracy\")\n",
    "plt.title(\"Week 4: Logistic Regression — Effect of Scaling & Encoding\")\n",
    "\n",
    "# Annotate bars with values\n",
    "for i, val in enumerate(y):\n",
    "    plt.text(i, val + 0.01, f\"{val:.3f}\", ha='center', va='bottom')\n",
    "\n",
    "plt.tight_layout()\n",
    "plt.show()\n"
   ]
  },
  {
   "cell_type": "markdown",
   "id": "667bb747",
   "metadata": {},
   "source": [
    "#### **Conclusions**"
   ]
  },
  {
   "cell_type": "markdown",
   "id": "4af0b651",
   "metadata": {},
   "source": [
    "1. Logistic Regression Without Scaling/Encoding\n",
    "\n",
    "Using only the raw numeric features, Logistic Regression already performed decently:\n",
    "\n",
    "Accuracy ≈ 0.84\n",
    "\n",
    "Precision/Recall balanced for both classes.\n",
    "\n",
    "This shows that even a basic setup captures useful patterns in the dataset.\n",
    "\n",
    "But it leaves a lot of signal unused, because categorical variables were ignored and numeric features weren’t normalized.\n",
    "\n",
    "2. Logistic Regression With Scaling + Encoding (Pipeline)\n",
    "\n",
    "After feature scaling and encoding low-cardinality categoricals, performance jumped:\n",
    "\n",
    "Accuracy ≈ 0.94\n",
    "\n",
    "Both precision and recall improved, reaching parity at 0.94 for phishing and legitimate sites.\n",
    "\n",
    "This confirms that preprocessing is essential for linear models like Logistic Regression, since they assume features are on comparable scales and can benefit from categorical signals.\n",
    "\n",
    "3. Robust Cross-Validation\n",
    "\n",
    "With Repeated Stratified 10×10 CV, mean accuracy stayed around 0.945 ± 0.006, showing results are stable across folds and not a fluke of the train/test split.\n",
    "\n",
    "The tight standard deviation (±0.6%) indicates consistency: Logistic Regression + preprocessing generalizes well."
   ]
  },
  {
   "cell_type": "markdown",
   "id": "a41765c2",
   "metadata": {},
   "source": [
    "## Dataset 2: Phishing Email Detection"
   ]
  },
  {
   "cell_type": "markdown",
   "id": "9af110fa",
   "metadata": {},
   "source": [
    "### **Logistic regression and feature scaling**"
   ]
  },
  {
   "cell_type": "code",
   "execution_count": 9,
   "id": "974753e4",
   "metadata": {},
   "outputs": [
    {
     "ename": "ValueError",
     "evalue": "np.nan is an invalid document, expected byte or unicode string.",
     "output_type": "error",
     "traceback": [
      "\u001b[0;31m---------------------------------------------------------------------------\u001b[0m",
      "\u001b[0;31mValueError\u001b[0m                                Traceback (most recent call last)",
      "Cell \u001b[0;32mIn[9], line 27\u001b[0m\n\u001b[1;32m     24\u001b[0m tfidf \u001b[38;5;241m=\u001b[39m TfidfVectorizer(stop_words\u001b[38;5;241m=\u001b[39m\u001b[38;5;124m\"\u001b[39m\u001b[38;5;124menglish\u001b[39m\u001b[38;5;124m\"\u001b[39m, max_features\u001b[38;5;241m=\u001b[39m\u001b[38;5;241m5000\u001b[39m)\n\u001b[1;32m     25\u001b[0m svd \u001b[38;5;241m=\u001b[39m TruncatedSVD(n_components\u001b[38;5;241m=\u001b[39m\u001b[38;5;241m100\u001b[39m, random_state\u001b[38;5;241m=\u001b[39m\u001b[38;5;241m42\u001b[39m)\n\u001b[0;32m---> 27\u001b[0m X_train_tfidf \u001b[38;5;241m=\u001b[39m tfidf\u001b[38;5;241m.\u001b[39mfit_transform(X_train)\n\u001b[1;32m     28\u001b[0m X_test_tfidf \u001b[38;5;241m=\u001b[39m tfidf\u001b[38;5;241m.\u001b[39mtransform(X_test)\n\u001b[1;32m     30\u001b[0m X_train_svd \u001b[38;5;241m=\u001b[39m svd\u001b[38;5;241m.\u001b[39mfit_transform(X_train_tfidf)\n",
      "File \u001b[0;32m/opt/anaconda3/lib/python3.12/site-packages/sklearn/feature_extraction/text.py:2091\u001b[0m, in \u001b[0;36mTfidfVectorizer.fit_transform\u001b[0;34m(self, raw_documents, y)\u001b[0m\n\u001b[1;32m   2084\u001b[0m \u001b[38;5;28mself\u001b[39m\u001b[38;5;241m.\u001b[39m_check_params()\n\u001b[1;32m   2085\u001b[0m \u001b[38;5;28mself\u001b[39m\u001b[38;5;241m.\u001b[39m_tfidf \u001b[38;5;241m=\u001b[39m TfidfTransformer(\n\u001b[1;32m   2086\u001b[0m     norm\u001b[38;5;241m=\u001b[39m\u001b[38;5;28mself\u001b[39m\u001b[38;5;241m.\u001b[39mnorm,\n\u001b[1;32m   2087\u001b[0m     use_idf\u001b[38;5;241m=\u001b[39m\u001b[38;5;28mself\u001b[39m\u001b[38;5;241m.\u001b[39muse_idf,\n\u001b[1;32m   2088\u001b[0m     smooth_idf\u001b[38;5;241m=\u001b[39m\u001b[38;5;28mself\u001b[39m\u001b[38;5;241m.\u001b[39msmooth_idf,\n\u001b[1;32m   2089\u001b[0m     sublinear_tf\u001b[38;5;241m=\u001b[39m\u001b[38;5;28mself\u001b[39m\u001b[38;5;241m.\u001b[39msublinear_tf,\n\u001b[1;32m   2090\u001b[0m )\n\u001b[0;32m-> 2091\u001b[0m X \u001b[38;5;241m=\u001b[39m \u001b[38;5;28msuper\u001b[39m()\u001b[38;5;241m.\u001b[39mfit_transform(raw_documents)\n\u001b[1;32m   2092\u001b[0m \u001b[38;5;28mself\u001b[39m\u001b[38;5;241m.\u001b[39m_tfidf\u001b[38;5;241m.\u001b[39mfit(X)\n\u001b[1;32m   2093\u001b[0m \u001b[38;5;66;03m# X is already a transformed view of raw_documents so\u001b[39;00m\n\u001b[1;32m   2094\u001b[0m \u001b[38;5;66;03m# we set copy to False\u001b[39;00m\n",
      "File \u001b[0;32m/opt/anaconda3/lib/python3.12/site-packages/sklearn/base.py:1473\u001b[0m, in \u001b[0;36m_fit_context.<locals>.decorator.<locals>.wrapper\u001b[0;34m(estimator, *args, **kwargs)\u001b[0m\n\u001b[1;32m   1466\u001b[0m     estimator\u001b[38;5;241m.\u001b[39m_validate_params()\n\u001b[1;32m   1468\u001b[0m \u001b[38;5;28;01mwith\u001b[39;00m config_context(\n\u001b[1;32m   1469\u001b[0m     skip_parameter_validation\u001b[38;5;241m=\u001b[39m(\n\u001b[1;32m   1470\u001b[0m         prefer_skip_nested_validation \u001b[38;5;129;01mor\u001b[39;00m global_skip_validation\n\u001b[1;32m   1471\u001b[0m     )\n\u001b[1;32m   1472\u001b[0m ):\n\u001b[0;32m-> 1473\u001b[0m     \u001b[38;5;28;01mreturn\u001b[39;00m fit_method(estimator, \u001b[38;5;241m*\u001b[39margs, \u001b[38;5;241m*\u001b[39m\u001b[38;5;241m*\u001b[39mkwargs)\n",
      "File \u001b[0;32m/opt/anaconda3/lib/python3.12/site-packages/sklearn/feature_extraction/text.py:1372\u001b[0m, in \u001b[0;36mCountVectorizer.fit_transform\u001b[0;34m(self, raw_documents, y)\u001b[0m\n\u001b[1;32m   1364\u001b[0m             warnings\u001b[38;5;241m.\u001b[39mwarn(\n\u001b[1;32m   1365\u001b[0m                 \u001b[38;5;124m\"\u001b[39m\u001b[38;5;124mUpper case characters found in\u001b[39m\u001b[38;5;124m\"\u001b[39m\n\u001b[1;32m   1366\u001b[0m                 \u001b[38;5;124m\"\u001b[39m\u001b[38;5;124m vocabulary while \u001b[39m\u001b[38;5;124m'\u001b[39m\u001b[38;5;124mlowercase\u001b[39m\u001b[38;5;124m'\u001b[39m\u001b[38;5;124m\"\u001b[39m\n\u001b[1;32m   1367\u001b[0m                 \u001b[38;5;124m\"\u001b[39m\u001b[38;5;124m is True. These entries will not\u001b[39m\u001b[38;5;124m\"\u001b[39m\n\u001b[1;32m   1368\u001b[0m                 \u001b[38;5;124m\"\u001b[39m\u001b[38;5;124m be matched with any documents\u001b[39m\u001b[38;5;124m\"\u001b[39m\n\u001b[1;32m   1369\u001b[0m             )\n\u001b[1;32m   1370\u001b[0m             \u001b[38;5;28;01mbreak\u001b[39;00m\n\u001b[0;32m-> 1372\u001b[0m vocabulary, X \u001b[38;5;241m=\u001b[39m \u001b[38;5;28mself\u001b[39m\u001b[38;5;241m.\u001b[39m_count_vocab(raw_documents, \u001b[38;5;28mself\u001b[39m\u001b[38;5;241m.\u001b[39mfixed_vocabulary_)\n\u001b[1;32m   1374\u001b[0m \u001b[38;5;28;01mif\u001b[39;00m \u001b[38;5;28mself\u001b[39m\u001b[38;5;241m.\u001b[39mbinary:\n\u001b[1;32m   1375\u001b[0m     X\u001b[38;5;241m.\u001b[39mdata\u001b[38;5;241m.\u001b[39mfill(\u001b[38;5;241m1\u001b[39m)\n",
      "File \u001b[0;32m/opt/anaconda3/lib/python3.12/site-packages/sklearn/feature_extraction/text.py:1259\u001b[0m, in \u001b[0;36mCountVectorizer._count_vocab\u001b[0;34m(self, raw_documents, fixed_vocab)\u001b[0m\n\u001b[1;32m   1257\u001b[0m \u001b[38;5;28;01mfor\u001b[39;00m doc \u001b[38;5;129;01min\u001b[39;00m raw_documents:\n\u001b[1;32m   1258\u001b[0m     feature_counter \u001b[38;5;241m=\u001b[39m {}\n\u001b[0;32m-> 1259\u001b[0m     \u001b[38;5;28;01mfor\u001b[39;00m feature \u001b[38;5;129;01min\u001b[39;00m analyze(doc):\n\u001b[1;32m   1260\u001b[0m         \u001b[38;5;28;01mtry\u001b[39;00m:\n\u001b[1;32m   1261\u001b[0m             feature_idx \u001b[38;5;241m=\u001b[39m vocabulary[feature]\n",
      "File \u001b[0;32m/opt/anaconda3/lib/python3.12/site-packages/sklearn/feature_extraction/text.py:103\u001b[0m, in \u001b[0;36m_analyze\u001b[0;34m(doc, analyzer, tokenizer, ngrams, preprocessor, decoder, stop_words)\u001b[0m\n\u001b[1;32m     81\u001b[0m \u001b[38;5;250m\u001b[39m\u001b[38;5;124;03m\"\"\"Chain together an optional series of text processing steps to go from\u001b[39;00m\n\u001b[1;32m     82\u001b[0m \u001b[38;5;124;03ma single document to ngrams, with or without tokenizing or preprocessing.\u001b[39;00m\n\u001b[1;32m     83\u001b[0m \n\u001b[0;32m   (...)\u001b[0m\n\u001b[1;32m     99\u001b[0m \u001b[38;5;124;03m    A sequence of tokens, possibly with pairs, triples, etc.\u001b[39;00m\n\u001b[1;32m    100\u001b[0m \u001b[38;5;124;03m\"\"\"\u001b[39;00m\n\u001b[1;32m    102\u001b[0m \u001b[38;5;28;01mif\u001b[39;00m decoder \u001b[38;5;129;01mis\u001b[39;00m \u001b[38;5;129;01mnot\u001b[39;00m \u001b[38;5;28;01mNone\u001b[39;00m:\n\u001b[0;32m--> 103\u001b[0m     doc \u001b[38;5;241m=\u001b[39m decoder(doc)\n\u001b[1;32m    104\u001b[0m \u001b[38;5;28;01mif\u001b[39;00m analyzer \u001b[38;5;129;01mis\u001b[39;00m \u001b[38;5;129;01mnot\u001b[39;00m \u001b[38;5;28;01mNone\u001b[39;00m:\n\u001b[1;32m    105\u001b[0m     doc \u001b[38;5;241m=\u001b[39m analyzer(doc)\n",
      "File \u001b[0;32m/opt/anaconda3/lib/python3.12/site-packages/sklearn/feature_extraction/text.py:236\u001b[0m, in \u001b[0;36m_VectorizerMixin.decode\u001b[0;34m(self, doc)\u001b[0m\n\u001b[1;32m    233\u001b[0m     doc \u001b[38;5;241m=\u001b[39m doc\u001b[38;5;241m.\u001b[39mdecode(\u001b[38;5;28mself\u001b[39m\u001b[38;5;241m.\u001b[39mencoding, \u001b[38;5;28mself\u001b[39m\u001b[38;5;241m.\u001b[39mdecode_error)\n\u001b[1;32m    235\u001b[0m \u001b[38;5;28;01mif\u001b[39;00m doc \u001b[38;5;129;01mis\u001b[39;00m np\u001b[38;5;241m.\u001b[39mnan:\n\u001b[0;32m--> 236\u001b[0m     \u001b[38;5;28;01mraise\u001b[39;00m \u001b[38;5;167;01mValueError\u001b[39;00m(\n\u001b[1;32m    237\u001b[0m         \u001b[38;5;124m\"\u001b[39m\u001b[38;5;124mnp.nan is an invalid document, expected byte or unicode string.\u001b[39m\u001b[38;5;124m\"\u001b[39m\n\u001b[1;32m    238\u001b[0m     )\n\u001b[1;32m    240\u001b[0m \u001b[38;5;28;01mreturn\u001b[39;00m doc\n",
      "\u001b[0;31mValueError\u001b[0m: np.nan is an invalid document, expected byte or unicode string."
     ]
    }
   ],
   "source": [
    "import pandas as pd\n",
    "from sklearn.model_selection import train_test_split\n",
    "from sklearn.feature_extraction.text import TfidfVectorizer\n",
    "from sklearn.decomposition import TruncatedSVD\n",
    "from sklearn.linear_model import LogisticRegression\n",
    "from sklearn.metrics import classification_report\n",
    "import kagglehub\n",
    "\n",
    "path = kagglehub.dataset_download(\"subhajournal/phishingemails\")\n",
    "dataset2 = pd.read_csv(path + \"/Phishing_Email.csv\")\n",
    "\n",
    "# Target encoding (already done earlier but included for clarity)\n",
    "dataset2[\"Email Type\"] = dataset2[\"Email Type\"].map({\"Phishing Email\": 0, \"Safe Email\": 1})\n",
    "\n",
    "X = dataset2[\"Email Text\"]\n",
    "y = dataset2[\"Email Type\"]\n",
    "\n",
    "# Train/test split\n",
    "X_train, X_test, y_train, y_test = train_test_split(\n",
    "    X, y, test_size=0.3, random_state=42, stratify=y\n",
    ")\n",
    "\n",
    "# TF-IDF + SVD\n",
    "tfidf = TfidfVectorizer(stop_words=\"english\", max_features=5000)\n",
    "svd = TruncatedSVD(n_components=100, random_state=42)\n",
    "\n",
    "X_train_tfidf = tfidf.fit_transform(X_train)\n",
    "X_test_tfidf = tfidf.transform(X_test)\n",
    "\n",
    "X_train_svd = svd.fit_transform(X_train_tfidf)\n",
    "X_test_svd = svd.transform(X_test_tfidf)\n",
    "\n",
    "# Logistic Regression (no scaling)\n",
    "lr_raw = LogisticRegression(max_iter=5000, random_state=42)\n",
    "lr_raw.fit(X_train_svd, y_train)\n",
    "\n",
    "print(\"=== Logistic Regression without scaling ===\")\n",
    "print(classification_report(y_test, lr_raw.predict(X_test_svd)))\n"
   ]
  },
  {
   "cell_type": "code",
   "execution_count": 12,
   "id": "7e2c20b1",
   "metadata": {},
   "outputs": [],
   "source": [
    "import pandas as pd\n",
    "import kagglehub\n",
    "\n",
    "path = kagglehub.dataset_download(\"subhajournal/phishingemails\")\n",
    "dataset2 = pd.read_csv(path + \"/Phishing_Email.csv\")\n",
    "\n",
    "# 0) Target encoding (for consistency): 0=Phishing, 1=Safe\n",
    "dataset2[\"Email Type\"] = dataset2[\"Email Type\"].map({\"Phishing Email\": 0, \"Safe Email\": 1})\n",
    "\n",
    "# 1) Drop rows with missing target, and fix Email Text\n",
    "dataset2 = dataset2.dropna(subset=[\"Email Type\"])  # safety\n",
    "\n",
    "# Clean Email Text: drop pure-NaN, coerce to string, strip, replace remaining NaNs with \"\"\n",
    "txt = dataset2[\"Email Text\"]\n",
    "txt = txt.where(txt.notna(), \"\")            # replace NaN with empty\n",
    "txt = txt.astype(str).str.replace(r\"\\s+\", \" \", regex=True).str.strip()\n",
    "dataset2[\"Email Text\"] = txt\n",
    "\n",
    "# Optional: if you want to drop truly empty after cleaning (recommended)\n",
    "dataset2 = dataset2[dataset2[\"Email Text\"].str.len() > 0].copy()\n",
    "\n",
    "X = dataset2[\"Email Text\"]\n",
    "y = dataset2[\"Email Type\"]"
   ]
  },
  {
   "cell_type": "code",
   "execution_count": null,
   "id": "7f5c94d5",
   "metadata": {},
   "outputs": [
    {
     "name": "stdout",
     "output_type": "stream",
     "text": [
      "=== Logistic Regression without scaling ===\n",
      "              precision    recall  f1-score   support\n",
      "\n",
      "           0       0.93      0.95      0.94      2193\n",
      "           1       0.97      0.96      0.96      3397\n",
      "\n",
      "    accuracy                           0.95      5590\n",
      "   macro avg       0.95      0.95      0.95      5590\n",
      "weighted avg       0.95      0.95      0.95      5590\n",
      "\n"
     ]
    }
   ],
   "source": [
    "#Part A — TF-IDF → SVD → Logistic Regression (no scaling)\n",
    "from sklearn.model_selection import train_test_split\n",
    "from sklearn.feature_extraction.text import TfidfVectorizer\n",
    "from sklearn.decomposition import TruncatedSVD\n",
    "from sklearn.linear_model import LogisticRegression\n",
    "from sklearn.metrics import classification_report\n",
    "\n",
    "X_train, X_test, y_train, y_test = train_test_split(\n",
    "    X, y, test_size=0.30, random_state=42, stratify=y\n",
    ")\n",
    "\n",
    "tfidf = TfidfVectorizer(stop_words=\"english\", max_features=5000)\n",
    "svd = TruncatedSVD(n_components=100, random_state=42)\n",
    "\n",
    "X_train_svd = svd.fit_transform(tfidf.fit_transform(X_train))\n",
    "X_test_svd  = svd.transform(tfidf.transform(X_test))\n",
    "\n",
    "lr_raw = LogisticRegression(max_iter=5000, random_state=42)\n",
    "lr_raw.fit(X_train_svd, y_train)\n",
    "\n",
    "print(\"=== Logistic Regression without scaling ===\")\n",
    "print(classification_report(y_test, lr_raw.predict(X_test_svd)))\n"
   ]
  },
  {
   "cell_type": "code",
   "execution_count": 14,
   "id": "2329ef2c",
   "metadata": {},
   "outputs": [
    {
     "name": "stdout",
     "output_type": "stream",
     "text": [
      "=== Logistic Regression with scaling (Pipeline) ===\n",
      "              precision    recall  f1-score   support\n",
      "\n",
      "           0       0.94      0.96      0.95      2193\n",
      "           1       0.97      0.96      0.97      3397\n",
      "\n",
      "    accuracy                           0.96      5590\n",
      "   macro avg       0.96      0.96      0.96      5590\n",
      "weighted avg       0.96      0.96      0.96      5590\n",
      "\n"
     ]
    }
   ],
   "source": [
    "# Part B — Add feature scaling after SVD (best practice)\n",
    "from sklearn.preprocessing import StandardScaler\n",
    "from sklearn.pipeline import Pipeline\n",
    "\n",
    "pipe_scaled = Pipeline([\n",
    "    (\"tfidf\", TfidfVectorizer(stop_words=\"english\", max_features=5000)),\n",
    "    (\"svd\", TruncatedSVD(n_components=100, random_state=42)),\n",
    "    (\"scaler\", StandardScaler()),  # SVD outputs dense, so scaling is fine\n",
    "    (\"lr\", LogisticRegression(max_iter=5000, random_state=42))\n",
    "])\n",
    "\n",
    "pipe_scaled.fit(X_train, y_train)\n",
    "print(\"=== Logistic Regression with scaling (Pipeline) ===\")\n",
    "print(classification_report(y_test, pipe_scaled.predict(X_test)))\n"
   ]
  },
  {
   "cell_type": "code",
   "execution_count": 15,
   "id": "821e7498",
   "metadata": {},
   "outputs": [
    {
     "name": "stdout",
     "output_type": "stream",
     "text": [
      "\n",
      "CV Accuracy: 0.959 (+/- 0.004) over 100 folds\n"
     ]
    }
   ],
   "source": [
    "# Part C — Repeated Stratified CV on the scaled pipeline\n",
    "from sklearn.model_selection import RepeatedStratifiedKFold, cross_val_score\n",
    "import numpy as np\n",
    "\n",
    "cv = RepeatedStratifiedKFold(n_splits=10, n_repeats=10, random_state=42)\n",
    "scores = cross_val_score(pipe_scaled, X, y, scoring=\"accuracy\", cv=cv, n_jobs=-1)\n",
    "print(f\"\\nCV Accuracy: {scores.mean():.3f} (+/- {scores.std():.3f}) over {len(scores)} folds\")"
   ]
  },
  {
   "cell_type": "code",
   "execution_count": null,
   "id": "2ce65f6e",
   "metadata": {},
   "outputs": [
    {
     "data": {
      "text/html": [
       "<div>\n",
       "<style scoped>\n",
       "    .dataframe tbody tr th:only-of-type {\n",
       "        vertical-align: middle;\n",
       "    }\n",
       "\n",
       "    .dataframe tbody tr th {\n",
       "        vertical-align: top;\n",
       "    }\n",
       "\n",
       "    .dataframe thead th {\n",
       "        text-align: right;\n",
       "    }\n",
       "</style>\n",
       "<table border=\"1\" class=\"dataframe\">\n",
       "  <thead>\n",
       "    <tr style=\"text-align: right;\">\n",
       "      <th></th>\n",
       "      <th>Setting</th>\n",
       "      <th>Accuracy</th>\n",
       "      <th>Std (if CV)</th>\n",
       "    </tr>\n",
       "  </thead>\n",
       "  <tbody>\n",
       "    <tr>\n",
       "      <th>0</th>\n",
       "      <td>No scaling</td>\n",
       "      <td>0.950</td>\n",
       "      <td>NaN</td>\n",
       "    </tr>\n",
       "    <tr>\n",
       "      <th>1</th>\n",
       "      <td>With scaling (holdout)</td>\n",
       "      <td>0.960</td>\n",
       "      <td>NaN</td>\n",
       "    </tr>\n",
       "    <tr>\n",
       "      <th>2</th>\n",
       "      <td>With scaling (CV)</td>\n",
       "      <td>0.959</td>\n",
       "      <td>0.004</td>\n",
       "    </tr>\n",
       "  </tbody>\n",
       "</table>\n",
       "</div>"
      ],
      "text/plain": [
       "                  Setting  Accuracy  Std (if CV)\n",
       "0              No scaling     0.950          NaN\n",
       "1  With scaling (holdout)     0.960          NaN\n",
       "2       With scaling (CV)     0.959        0.004"
      ]
     },
     "metadata": {},
     "output_type": "display_data"
    },
    {
     "data": {
      "image/png": "[encoded data removed]",
      "text/plain": [
       "<Figure size 800x500 with 1 Axes>"
      ]
     },
     "metadata": {},
     "output_type": "display_data"
    }
   ],
   "source": [
    "import matplotlib.pyplot as plt\n",
    "import pandas as pd\n",
    "import numpy as np\n",
    "\n",
    "# Results from Dataset 2\n",
    "acc_raw = 0.95\n",
    "acc_scaled = 0.96\n",
    "cv_mean = 0.959\n",
    "cv_std = 0.004\n",
    "\n",
    "# Build a dataframe \n",
    "df2 = pd.DataFrame({\n",
    "    \"Setting\": [\"No scaling\", \"With scaling (holdout)\", \"With scaling (CV)\"],\n",
    "    \"Accuracy\": [acc_raw, acc_scaled, cv_mean],\n",
    "    \"Std (if CV)\": [np.nan, np.nan, cv_std]\n",
    "})\n",
    "display(df2)\n",
    "\n",
    "# --- Bar Chart ---\n",
    "x = np.arange(len(df2))\n",
    "y = df2[\"Accuracy\"].values\n",
    "\n",
    "plt.figure(figsize=(8,5))\n",
    "bars = plt.bar(x, y, color=[\"#fdbf6f\", \"#ff7f00\", \"#cab2d6\"])\n",
    "\n",
    "# Add error bar only for CV result\n",
    "plt.errorbar(x[2], y[2], yerr=cv_std, fmt='none', capsize=6, color=\"black\")\n",
    "\n",
    "# Labels and ticks\n",
    "plt.xticks(x, df2[\"Setting\"], rotation=15, ha=\"right\")\n",
    "plt.ylim(0.9, 1.0)\n",
    "plt.ylabel(\"Accuracy\")\n",
    "plt.title(\"Dataset 2: Logistic Regression — Effect of Scaling\")\n",
    "\n",
    "# Annotate bars with values\n",
    "for i, val in enumerate(y):\n",
    "    plt.text(i, val + 0.002, f\"{val:.3f}\", ha='center', va='bottom')\n",
    "\n",
    "plt.tight_layout()\n",
    "plt.show()"
   ]
  },
  {
   "cell_type": "markdown",
   "id": "54eee732",
   "metadata": {},
   "source": [
    "#### **Conclusions**"
   ]
  },
  {
   "cell_type": "markdown",
   "id": "92c06d81",
   "metadata": {},
   "source": [
    "1. Logistic Regression without Scaling\n",
    "\n",
    "Accuracy already high: 0.95.\n",
    "\n",
    "Precision/Recall balanced:\n",
    "\n",
    "Phishing emails (class 0): precision 0.93, recall 0.95.\n",
    "\n",
    "Safe emails (class 1): precision 0.97, recall 0.96.\n",
    "\n",
    "Logistic Regression works well even without scaling because SVD outputs dense numeric features that are already somewhat balanced.\n",
    "\n",
    "2. Logistic Regression with Scaling (Pipeline)\n",
    "\n",
    "Accuracy improves slightly: 0.96.\n",
    "\n",
    "Precision and recall become more balanced, especially for phishing detection (class 0 improves to 0.94–0.96).\n",
    "\n",
    "Scaling ensures coefficients aren’t dominated by large-magnitude SVD components → better stability.\n",
    "\n",
    "3. Robust Cross-Validation\n",
    "\n",
    "Mean CV Accuracy = 0.959 ± 0.004, showing the model is consistent across 100 folds.\n",
    "\n",
    "The small standard deviation confirms the pipeline’s reliability."
   ]
  }
 ],
 "metadata": {
  "kernelspec": {
   "display_name": "base",
   "language": "python",
   "name": "python3"
  },
  "language_info": {
   "codemirror_mode": {
    "name": "ipython",
    "version": 3
   },
   "file_extension": ".py",
   "mimetype": "text/x-python",
   "name": "python",
   "nbconvert_exporter": "python",
   "pygments_lexer": "ipython3",
   "version": "3.12.7"
  }
 },
 "nbformat": 4,
 "nbformat_minor": 5
}
